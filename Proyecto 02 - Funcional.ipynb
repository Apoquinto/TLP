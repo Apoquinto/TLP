{
 "cells": [
  {
   "cell_type": "markdown",
   "id": "3471e0b7",
   "metadata": {},
   "source": [
    "**Proyecto 02:** Programación funcional\n",
    "\n",
    "Realizar un Jupyter Notebook utilizando el kernel iRacket con los siguientes\n",
    "ejercicios."
   ]
  },
  {
   "cell_type": "markdown",
   "id": "8c38264d",
   "metadata": {},
   "source": [
    "1. Defina la función B que calcule los coeficientes binomiales B(n,k) = n!/((n-k)!*k! para n>=0, y 0<=k<=n"
   ]
  },
  {
   "cell_type": "code",
   "execution_count": 1,
   "id": "b56053e0",
   "metadata": {},
   "outputs": [],
   "source": [
    "#|\n",
    "B -> number\n",
    "parametros ->\n",
    "    n: número de elementos de un conjunto.\n",
    "    k: número de elementos a escoger del conjunto n.\n",
    "Devuelve el número de formas en que se puede extraer subconjuntos a partir de un conjunto dado. \n",
    "|#\n",
    "(define (factorial n)\n",
    "  (cond\n",
    "    [(= n 0) 1]\n",
    "    [(= n 1) 1]\n",
    "    [else\n",
    "     (* n (factorial (- n 1)))]\n",
    "))\n",
    "(define (division a b)(/ a b))\n",
    "(define (multiplicacion a b)(* a b))\n",
    "(define (resta a b)(- a b))\n",
    "(define (B n k)(division(factorial n)\n",
    "                        (multiplicacion (factorial (resta n k)) (factorial k))))"
   ]
  },
  {
   "cell_type": "markdown",
   "id": "ead607a7",
   "metadata": {},
   "source": [
    "**Casos de prueba 1.**\n",
    "\n",
    "**n** -> 5\n",
    "\n",
    "**k** -> 3\n",
    "\n",
    "**Resultado esperado:** 10"
   ]
  },
  {
   "cell_type": "code",
   "execution_count": 2,
   "id": "849b8f1a",
   "metadata": {
    "scrolled": true
   },
   "outputs": [
    {
     "data": {
      "text/html": [
       "<code>10</code>"
      ],
      "text/plain": [
       "10"
      ]
     },
     "execution_count": 2,
     "metadata": {},
     "output_type": "execute_result"
    }
   ],
   "source": [
    "(B 5 3)"
   ]
  },
  {
   "cell_type": "markdown",
   "id": "58a34b69",
   "metadata": {},
   "source": [
    "**Casos de prueba 2.**\n",
    "\n",
    "**n** -> 7\n",
    "\n",
    "**k** -> 3\n",
    "\n",
    "**Resultado esperado:** 35"
   ]
  },
  {
   "cell_type": "code",
   "execution_count": 3,
   "id": "52ea1ea6",
   "metadata": {},
   "outputs": [
    {
     "data": {
      "text/html": [
       "<code>35</code>"
      ],
      "text/plain": [
       "35"
      ]
     },
     "execution_count": 3,
     "metadata": {},
     "output_type": "execute_result"
    }
   ],
   "source": [
    "(B 7 3)"
   ]
  },
  {
   "cell_type": "markdown",
   "id": "a4eb2e55",
   "metadata": {},
   "source": [
    "**Casos de prueba 3.**\n",
    "\n",
    "**n** -> 4\n",
    "\n",
    "**k** -> 0\n",
    "\n",
    "**Resultado esperado:** 1"
   ]
  },
  {
   "cell_type": "code",
   "execution_count": 4,
   "id": "549bef38",
   "metadata": {},
   "outputs": [
    {
     "data": {
      "text/html": [
       "<code>1</code>"
      ],
      "text/plain": [
       "1"
      ]
     },
     "execution_count": 4,
     "metadata": {},
     "output_type": "execute_result"
    }
   ],
   "source": [
    "(B 4 0)"
   ]
  },
  {
   "cell_type": "markdown",
   "id": "15a8d109",
   "metadata": {},
   "source": [
    "2. Defina una función para la evaluación del número combinatorio C(n,k), que utiliza la definición recursiva."
   ]
  },
  {
   "cell_type": "code",
   "execution_count": 5,
   "id": "9f6f1dfd",
   "metadata": {},
   "outputs": [],
   "source": [
    "#|\n",
    "C -> number\n",
    "parametros ->\n",
    "    n: número de elementos de un conjunto.\n",
    "    k: número de elementos a escoger del conjunto n.\n",
    "Devuelve el número de combinaciones.\n",
    "|#\n",
    "\n",
    "(define (factorial n)\n",
    "  (cond\n",
    "    [(= n 0) 1]\n",
    "    [(= n 1) 1]\n",
    "    [else\n",
    "     (* n (factorial (- n 1)))]\n",
    "))\n",
    "\n",
    "(define (combinacion a b)\n",
    "        (cond\n",
    "    [(= b 0) 1]\n",
    "    [(= a b) 1]\n",
    "    [else\n",
    "     (division(factorial a)\n",
    "                        (multiplicacion (factorial (resta a b)) (factorial b)))]))\n",
    "\n",
    "(define (division a b)(/ a b))\n",
    "(define (multiplicacion a b)(* a b))\n",
    "(define (suma a b)(+ a b))\n",
    "(define (resta a b)(- a b))\n",
    "(define (C n k)(suma(combinacion (- n 1)(- k 1))\n",
    "                        (combinacion (- n 1)(+ k 0) )))"
   ]
  },
  {
   "cell_type": "markdown",
   "id": "d11eda09",
   "metadata": {},
   "source": [
    "**Casos de prueba 1.**\n",
    "\n",
    "**n** -> 5\n",
    "\n",
    "**k** -> 3\n",
    "\n",
    "**Resultado esperado:** 10"
   ]
  },
  {
   "cell_type": "code",
   "execution_count": 6,
   "id": "934d307f",
   "metadata": {},
   "outputs": [
    {
     "data": {
      "text/html": [
       "<code>10</code>"
      ],
      "text/plain": [
       "10"
      ]
     },
     "execution_count": 6,
     "metadata": {},
     "output_type": "execute_result"
    }
   ],
   "source": [
    "(C 5 3)"
   ]
  },
  {
   "cell_type": "markdown",
   "id": "594be822",
   "metadata": {},
   "source": [
    "**Casos de prueba 2.**\n",
    "\n",
    "**n** -> 7\n",
    "\n",
    "**k** -> 3\n",
    "\n",
    "**Resultado esperado:** 35"
   ]
  },
  {
   "cell_type": "code",
   "execution_count": 7,
   "id": "54d08786",
   "metadata": {},
   "outputs": [
    {
     "data": {
      "text/html": [
       "<code>35</code>"
      ],
      "text/plain": [
       "35"
      ]
     },
     "execution_count": 7,
     "metadata": {},
     "output_type": "execute_result"
    }
   ],
   "source": [
    "(C 7 3)"
   ]
  },
  {
   "cell_type": "markdown",
   "id": "b05179a9",
   "metadata": {},
   "source": [
    "3. Defina una función recursiva para calcular el Máximo Común Divisor de dos enteros negativos a y b con a < b usando el hecho de que MCD(a, b) = MCD(a, b-a)."
   ]
  },
  {
   "cell_type": "code",
   "execution_count": 8,
   "id": "71603789",
   "metadata": {},
   "outputs": [],
   "source": [
    "#|\n",
    "MDC -> number\n",
    "parametros ->\n",
    "    a: primer numero\n",
    "    b: Segundo número.\n",
    "Devuelve el máximo común.\n",
    "|#\n",
    "(define (mcd a b)\n",
    "  (if (> b a)\n",
    "      (mcd b a)\n",
    "      (if (= (modulo a b) 0) b (mcd b (modulo a b)))))"
   ]
  },
  {
   "cell_type": "markdown",
   "id": "181bc8dc",
   "metadata": {},
   "source": [
    "**Casos de prueba 1.**\n",
    "\n",
    "**a** -> 100\n",
    "\n",
    "**b** -> 10\n",
    "\n",
    "**Resultado esperado:** 10"
   ]
  },
  {
   "cell_type": "code",
   "execution_count": 9,
   "id": "515bfaf0",
   "metadata": {},
   "outputs": [
    {
     "data": {
      "text/html": [
       "<code>10</code>"
      ],
      "text/plain": [
       "10"
      ]
     },
     "execution_count": 9,
     "metadata": {},
     "output_type": "execute_result"
    }
   ],
   "source": [
    "(mcd 100 10)"
   ]
  },
  {
   "cell_type": "markdown",
   "id": "45801d2e",
   "metadata": {},
   "source": [
    "**Casos de prueba 2.**\n",
    "\n",
    "**a** -> 435\n",
    "\n",
    "**b** -> 180\n",
    "\n",
    "**Resultado esperado:** 15"
   ]
  },
  {
   "cell_type": "code",
   "execution_count": 10,
   "id": "2fc8e269",
   "metadata": {},
   "outputs": [
    {
     "data": {
      "text/html": [
       "<code>15</code>"
      ],
      "text/plain": [
       "15"
      ]
     },
     "execution_count": 10,
     "metadata": {},
     "output_type": "execute_result"
    }
   ],
   "source": [
    "(mcd 435 180)"
   ]
  },
  {
   "cell_type": "markdown",
   "id": "eb2104a6",
   "metadata": {},
   "source": [
    "**Casos de prueba 2.**\n",
    "\n",
    "**a** -> 37\n",
    "\n",
    "**b** -> 177\n",
    "\n",
    "**Resultado esperado:** 1"
   ]
  },
  {
   "cell_type": "code",
   "execution_count": 11,
   "id": "9c471b80",
   "metadata": {},
   "outputs": [
    {
     "data": {
      "text/html": [
       "<code>1</code>"
      ],
      "text/plain": [
       "1"
      ]
     },
     "execution_count": 11,
     "metadata": {},
     "output_type": "execute_result"
    }
   ],
   "source": [
    "(mcd 37 177)"
   ]
  },
  {
   "cell_type": "markdown",
   "id": "644bb3c0",
   "metadata": {},
   "source": [
    "4. Definir una función que devuelva, en una lista, todos los números primos desde un número inicial hasta un número final, ejemplo: (primos 3 10) este ejemplo devolverá ‘(5 7)."
   ]
  },
  {
   "cell_type": "code",
   "execution_count": 12,
   "id": "33a0af6e",
   "metadata": {},
   "outputs": [
    {
     "name": "stderr",
     "output_type": "stream",
     "text": [
      "eval:3:0: read-syntax: expected a `)` to close `(`\n",
      "  possible cause: indentation suggests a missing `)` before line 4\n",
      "  context...:\n",
      "   read-one/not-eof\n",
      "   loop\n",
      "   [repeats 3 more times]\n",
      "   read-unwrapped-sequence17\n",
      "   read-undotted\n",
      "   read-syntax\n",
      "   /usr/share/racket/pkgs/sandbox-lib/racket/sandbox.rkt:113:0: default-sandbox-reader\n",
      "   /usr/share/racket/pkgs/sandbox-lib/racket/sandbox.rkt:571:0: input->code\n",
      "   /usr/share/racket/pkgs/sandbox-lib/racket/sandbox.rkt:897:14\n",
      "   /usr/share/racket/pkgs/sandbox-lib/racket/sandbox.rkt:510:0: call-with-custodian-shutdown\n",
      "   /usr/share/racket/collects/racket/private/more-scheme.rkt:148:2: call-with-break-parameterization\n",
      "   .../more-scheme.rkt:261:28\n",
      "   /usr/share/racket/pkgs/sandbox-lib/racket/sandbox.rkt:878:5: loop\n"
     ]
    }
   ],
   "source": [
    "(define (getNumberList n) (cddr(build-list n values)))\n",
    "(define (filterMultiple lista multiplo) (filter (lambda (dato) (if (= (modulo dato multiplo) 0) #f #t)) lista))\n",
    "(define (getPrimes criba n)\n",
    "(define (primos initial final) (list 1 2 3 4))"
   ]
  },
  {
   "cell_type": "markdown",
   "id": "d19b793f",
   "metadata": {},
   "source": [
    "5. Realizar una función para hallar el valor de e definiéndola como sigue:"
   ]
  },
  {
   "cell_type": "code",
   "execution_count": 13,
   "id": "8f2c8a79",
   "metadata": {},
   "outputs": [],
   "source": [
    "(define (factorial n)\n",
    "  (cond\n",
    "    [(= n 0) 1]\n",
    "    [(= n 1) 1]\n",
    "    [else\n",
    "     (* n (factorial (- n 1)))]\n",
    "))\n",
    "(define (division a b)(/ a b))\n",
    "(define (suma a b)(+ a b))\n",
    "#|\n",
    "euler -> number\n",
    "parametros ->\n",
    "    a: valor a evaluar en la función.\n",
    "Devuelve el resultado de evaluar la función de euler para una valor a.\n",
    "|#\n",
    "(define (euler a)\n",
    "  (if (= a 0)\n",
    "      1\n",
    "      (suma(division 1 (factorial a))(euler (- a 1)))\n",
    "  )) "
   ]
  },
  {
   "cell_type": "markdown",
   "id": "ccb1fdf5",
   "metadata": {},
   "source": [
    "**Casos de prueba 1.**\n",
    "\n",
    "**a** -> 1\n",
    "\n",
    "**Resultado esperado:** 2"
   ]
  },
  {
   "cell_type": "code",
   "execution_count": 14,
   "id": "e87437e8",
   "metadata": {},
   "outputs": [
    {
     "data": {
      "text/html": [
       "<code>1957/720</code>"
      ],
      "text/plain": [
       "1957/720"
      ]
     },
     "execution_count": 14,
     "metadata": {},
     "output_type": "execute_result"
    }
   ],
   "source": [
    "(euler 6)"
   ]
  },
  {
   "cell_type": "markdown",
   "id": "484b05d1",
   "metadata": {},
   "source": [
    "**Casos de prueba 2.**\n",
    "\n",
    "**a** -> 3\n",
    "\n",
    "**Resultado esperado:** 2.66"
   ]
  },
  {
   "cell_type": "code",
   "execution_count": 15,
   "id": "70c90fc5",
   "metadata": {},
   "outputs": [
    {
     "data": {
      "text/html": [
       "<code>2</code>"
      ],
      "text/plain": [
       "2"
      ]
     },
     "execution_count": 15,
     "metadata": {},
     "output_type": "execute_result"
    }
   ],
   "source": [
    "(euler 1)"
   ]
  },
  {
   "cell_type": "markdown",
   "id": "6051941c",
   "metadata": {},
   "source": [
    "6. Realiza una función que indique la longitud de una lista."
   ]
  },
  {
   "cell_type": "code",
   "execution_count": 16,
   "id": "1cda458a",
   "metadata": {},
   "outputs": [],
   "source": [
    "#|\n",
    "len -> number\n",
    "parametros ->\n",
    "    lista: lista de los elementos a contar.\n",
    "Devuelve el número de elementos de una lista.\n",
    "|#\n",
    "(define (len lista) \n",
    "  (if (null? lista) \n",
    "      0 \n",
    "      (+ 1 (len (cdr lista)))))"
   ]
  },
  {
   "cell_type": "markdown",
   "id": "cc056b16",
   "metadata": {},
   "source": [
    "**Casos de prueba 1.**\n",
    "\n",
    "**lista** -> '(1 2 3 4)\n",
    "\n",
    "**Resultado esperado:** 4"
   ]
  },
  {
   "cell_type": "code",
   "execution_count": 17,
   "id": "4206376a",
   "metadata": {
    "scrolled": true
   },
   "outputs": [
    {
     "data": {
      "text/html": [
       "<code>4</code>"
      ],
      "text/plain": [
       "4"
      ]
     },
     "execution_count": 17,
     "metadata": {},
     "output_type": "execute_result"
    }
   ],
   "source": [
    "(len '(1 2 3 4))"
   ]
  },
  {
   "cell_type": "markdown",
   "id": "ab5de9a5",
   "metadata": {},
   "source": [
    "**Casos de prueba 2.**\n",
    "\n",
    "**lista** -> '()\n",
    "\n",
    "**Resultado esperado:** 0"
   ]
  },
  {
   "cell_type": "code",
   "execution_count": 18,
   "id": "4d5fd73c",
   "metadata": {},
   "outputs": [
    {
     "data": {
      "text/html": [
       "<code>0</code>"
      ],
      "text/plain": [
       "0"
      ]
     },
     "execution_count": 18,
     "metadata": {},
     "output_type": "execute_result"
    }
   ],
   "source": [
    "(len '())"
   ]
  },
  {
   "cell_type": "markdown",
   "id": "6be12cf0",
   "metadata": {},
   "source": [
    "**Casos de prueba 3.**\n",
    "\n",
    "**lista** -> '(1 2 3 4 5 6 7 8 9 10)\n",
    "\n",
    "**Resultado esperado:** 4"
   ]
  },
  {
   "cell_type": "code",
   "execution_count": 19,
   "id": "78d1e13f",
   "metadata": {},
   "outputs": [
    {
     "data": {
      "text/html": [
       "<code>10</code>"
      ],
      "text/plain": [
       "10"
      ]
     },
     "execution_count": 19,
     "metadata": {},
     "output_type": "execute_result"
    }
   ],
   "source": [
    "(len '(1 2 3 4 5 6 7 8 9 10))"
   ]
  },
  {
   "cell_type": "markdown",
   "id": "403fa11d",
   "metadata": {},
   "source": [
    "7. Realiza una función para buscar un elemento en una lista, regresar #t si lo encontró y #f si no lo encontró"
   ]
  },
  {
   "cell_type": "code",
   "execution_count": 20,
   "id": "d9cac41f",
   "metadata": {},
   "outputs": [],
   "source": [
    "#|\n",
    "busqueda -> boolean\n",
    "parametros ->\n",
    "    elemento: elemento a buscar en la lista.\n",
    "    lista: lista de elementos.\n",
    "Devuelve #t en caso de que encuentre el valor en la lista, #f en caso contrario.\n",
    "|#\n",
    "(define (busqueda elemento lista) (if (null? lista) #f (if (= elemento (car lista)) #t (busqueda elemento (cdr lista)))))"
   ]
  },
  {
   "cell_type": "markdown",
   "id": "a5561cf7",
   "metadata": {},
   "source": [
    "**Casos de prueba 1.**\n",
    "\n",
    "**lista** -> '()\n",
    "\n",
    "**elemento** -> 100\n",
    "\n",
    "**Resultado esperado:** #f"
   ]
  },
  {
   "cell_type": "code",
   "execution_count": 21,
   "id": "409217e6",
   "metadata": {},
   "outputs": [
    {
     "data": {
      "text/html": [
       "<code>#f</code>"
      ],
      "text/plain": [
       "#f"
      ]
     },
     "execution_count": 21,
     "metadata": {},
     "output_type": "execute_result"
    }
   ],
   "source": [
    "(busqueda 100 '(1 2))"
   ]
  },
  {
   "cell_type": "markdown",
   "id": "b23d73ae",
   "metadata": {},
   "source": [
    "**Casos de prueba 2.**\n",
    "\n",
    "**lista** -> '(1 2 3 4 5)\n",
    "\n",
    "**elemento** -> 3\n",
    "\n",
    "**Resultado esperado:** #t"
   ]
  },
  {
   "cell_type": "code",
   "execution_count": 22,
   "id": "236c9e58",
   "metadata": {
    "scrolled": false
   },
   "outputs": [
    {
     "data": {
      "text/html": [
       "<code>#t</code>"
      ],
      "text/plain": [
       "#t"
      ]
     },
     "execution_count": 22,
     "metadata": {},
     "output_type": "execute_result"
    }
   ],
   "source": [
    "(busqueda 3 '(1 2 3 4 5))"
   ]
  },
  {
   "cell_type": "markdown",
   "id": "e72e36cb",
   "metadata": {},
   "source": [
    "**Casos de prueba 3.**\n",
    "\n",
    "**lista** -> '(1 2 3 4 5)\n",
    "\n",
    "**elemento** -> 0\n",
    "\n",
    "**Resultado esperado:** #f"
   ]
  },
  {
   "cell_type": "code",
   "execution_count": 23,
   "id": "51a076e0",
   "metadata": {},
   "outputs": [
    {
     "data": {
      "text/html": [
       "<code>#f</code>"
      ],
      "text/plain": [
       "#f"
      ]
     },
     "execution_count": 23,
     "metadata": {},
     "output_type": "execute_result"
    }
   ],
   "source": [
    "(busqueda 0 '(1 2 3 4 5))"
   ]
  },
  {
   "cell_type": "markdown",
   "id": "209813a7",
   "metadata": {},
   "source": [
    "8. Realizar una funcion que invierta una lista"
   ]
  },
  {
   "cell_type": "code",
   "execution_count": 24,
   "id": "931370a9",
   "metadata": {},
   "outputs": [],
   "source": [
    "#|\n",
    "invertir -> list\n",
    "parametros ->\n",
    "    elemento: elemento a buscar en la lista.\n",
    "    lista: lista de elementos.\n",
    "Dada una lista, invierte sus valores.\n",
    "|#\n",
    "(define (invertir lista)\n",
    "  (if (null? lista)\n",
    "      '()\n",
    "      (append (invertir (cdr lista)) (list (car lista)))))"
   ]
  },
  {
   "cell_type": "markdown",
   "id": "725dd1ed",
   "metadata": {},
   "source": [
    "**Casos de prueba 1.**\n",
    "\n",
    "**lista** -> '()\n",
    "\n",
    "**Resultado esperado:** '()"
   ]
  },
  {
   "cell_type": "code",
   "execution_count": 25,
   "id": "c2b33028",
   "metadata": {},
   "outputs": [
    {
     "data": {
      "text/html": [
       "<code>'()</code>"
      ],
      "text/plain": [
       "'()"
      ]
     },
     "execution_count": 25,
     "metadata": {},
     "output_type": "execute_result"
    }
   ],
   "source": [
    "(invertir '())"
   ]
  },
  {
   "cell_type": "markdown",
   "id": "37a6572e",
   "metadata": {},
   "source": [
    "**Casos de prueba 2.**\n",
    "\n",
    "**lista** -> '(1 2 2 1)\n",
    "\n",
    "**Resultado esperado:** '(1 2 2 1)"
   ]
  },
  {
   "cell_type": "code",
   "execution_count": 26,
   "id": "4efc1a26",
   "metadata": {},
   "outputs": [
    {
     "data": {
      "text/html": [
       "<code>'(1 2 2 1)</code>"
      ],
      "text/plain": [
       "'(1 2 2 1)"
      ]
     },
     "execution_count": 26,
     "metadata": {},
     "output_type": "execute_result"
    }
   ],
   "source": [
    "(invertir '(1 2 2 1))"
   ]
  },
  {
   "cell_type": "markdown",
   "id": "1b3ae101",
   "metadata": {},
   "source": [
    "**Casos de prueba 3.**\n",
    "\n",
    "**lista** -> '(1 2 3 4)\n",
    "\n",
    "**Resultado esperado:** '(4 3 2 1)"
   ]
  },
  {
   "cell_type": "code",
   "execution_count": 27,
   "id": "de8da76a",
   "metadata": {},
   "outputs": [
    {
     "data": {
      "text/html": [
       "<code>'(4 3 2 1)</code>"
      ],
      "text/plain": [
       "'(4 3 2 1)"
      ]
     },
     "execution_count": 27,
     "metadata": {},
     "output_type": "execute_result"
    }
   ],
   "source": [
    "(invertir '(1 2 3 4))"
   ]
  },
  {
   "cell_type": "markdown",
   "id": "b1dbd110",
   "metadata": {},
   "source": [
    "9. Realizar una función que elimine un elemento de una listas"
   ]
  },
  {
   "cell_type": "code",
   "execution_count": 28,
   "id": "5912e92e",
   "metadata": {},
   "outputs": [],
   "source": [
    "#|\n",
    "eliminar -> lista\n",
    "parametros ->\n",
    "    lista: lista de elementos.\n",
    "    elemento: elemento a eliminar en la lista.\n",
    "Eliminar todos los elementos de la lista que coincidan con el elemento a buscar.\n",
    "|#\n",
    "(define (eliminar lista n)\n",
    "  (filter (lambda (elemento) (if (= elemento n) #f #t)) lista))"
   ]
  },
  {
   "cell_type": "markdown",
   "id": "44bc7366",
   "metadata": {},
   "source": [
    "**Casos de prueba 1.**\n",
    "\n",
    "**lista** -> '(1 2 3 4 4)\n",
    "\n",
    "**elemento** -> 3\n",
    "\n",
    "**Resultado esperado:** '(1 2 4 4)"
   ]
  },
  {
   "cell_type": "code",
   "execution_count": 29,
   "id": "707fc9eb",
   "metadata": {},
   "outputs": [
    {
     "data": {
      "text/html": [
       "<code>'(1 2 4 4)</code>"
      ],
      "text/plain": [
       "'(1 2 4 4)"
      ]
     },
     "execution_count": 29,
     "metadata": {},
     "output_type": "execute_result"
    }
   ],
   "source": [
    "(eliminar '(1 2 3 4 4) 3)"
   ]
  },
  {
   "cell_type": "markdown",
   "id": "cb88279c",
   "metadata": {},
   "source": [
    "**Casos de prueba 2.**\n",
    "\n",
    "**lista** -> '(1 2 3 4 4)\n",
    "\n",
    "**elemento** -> 5\n",
    "\n",
    "**Resultado esperado:** '(1 2 3 4 4)"
   ]
  },
  {
   "cell_type": "code",
   "execution_count": 30,
   "id": "0a4ec3d8",
   "metadata": {},
   "outputs": [
    {
     "data": {
      "text/html": [
       "<code>'(1 2 3 4 4)</code>"
      ],
      "text/plain": [
       "'(1 2 3 4 4)"
      ]
     },
     "execution_count": 30,
     "metadata": {},
     "output_type": "execute_result"
    }
   ],
   "source": [
    "(eliminar '(1 2 3 4 4) 5)"
   ]
  },
  {
   "cell_type": "markdown",
   "id": "61df7fa6",
   "metadata": {},
   "source": [
    "**Casos de prueba 3.**\n",
    "\n",
    "**lista** -> '(1 2 3 4 4)\n",
    "\n",
    "**elemento** -> 4\n",
    "\n",
    "**Resultado esperado:** '(1 2 3)"
   ]
  },
  {
   "cell_type": "code",
   "execution_count": 31,
   "id": "53deb0f6",
   "metadata": {},
   "outputs": [
    {
     "data": {
      "text/html": [
       "<code>'(1 2 3)</code>"
      ],
      "text/plain": [
       "'(1 2 3)"
      ]
     },
     "execution_count": 31,
     "metadata": {},
     "output_type": "execute_result"
    }
   ],
   "source": [
    "(eliminar '(1 2 3 4 4) 4)"
   ]
  },
  {
   "cell_type": "markdown",
   "id": "a6e4655a",
   "metadata": {},
   "source": [
    "10. Defina una función para calcular la desviación estándar de un conjunto de datos\n",
    "(lista) La fórmula es la siguiente:\n",
    "![Imagen de la formula de Desviacion estandar](https://www.google.com/url?sa=i&url=https%3A%2F%2Feconomipedia.com%2Fdefiniciones%2Fdesviacion-tipica.html&psig=AOvVaw1CA3omM-kJRW_htU1KtWFX&ust=1649466204182000&source=images&cd=vfe&ved=0CAcQjRxqFwoTCNjg5NOig_cCFQAAAAAdAAAAABAD)"
   ]
  },
  {
   "cell_type": "code",
   "execution_count": 32,
   "id": "5ba56fab",
   "metadata": {},
   "outputs": [],
   "source": [
    ";; Funciones auxiliares\n",
    "(define (len lista) (if (null? lista) 0 (+ 1 (len (cdr lista)))))\n",
    "\n",
    "(define (sumatoria elementos) (if (null? elementos) 0 (+ (car elementos) (sumatoria (cdr elementos)))))\n",
    "\n",
    "(define (elevarAlCuadrado valor) (* valor valor))\n",
    "\n",
    "(define (media datos)(/ (sumatoria datos) (len datos)))\n",
    "\n",
    "(define (diferenciaConMedia valor media) (- valor media))\n",
    "\n",
    "(define (aplicarDiferenciaAlCuadrado datos) \n",
    "  (map (lambda (dato)\n",
    "         (elevarAlCuadrado\n",
    "          (diferenciaConMedia dato (media datos)))) \n",
    "       datos))\n",
    "\n",
    "#|\n",
    "desviacionEstandar -> numero\n",
    "parametros ->\n",
    "    datos: lista de datos que se usaran para calcular su desviacion estandar.\n",
    "Dada una lista de datos, devuelve su desviacion estandar.\n",
    "|#\n",
    "(define (desviacionEstandar datos) \n",
    "  (/ \n",
    "   (sumatoria \n",
    "    (aplicarDiferenciaAlCuadrado datos))\n",
    "   (len datos)))"
   ]
  },
  {
   "cell_type": "markdown",
   "id": "c28d08df",
   "metadata": {},
   "source": [
    "**Casos de prueba 1.**\n",
    "\n",
    "**lista** -> '(1 1 1 1)\n",
    "\n",
    "**Resultado esperado:** 0"
   ]
  },
  {
   "cell_type": "code",
   "execution_count": 33,
   "id": "fc6a23fe",
   "metadata": {},
   "outputs": [
    {
     "data": {
      "text/html": [
       "<code>0</code>"
      ],
      "text/plain": [
       "0"
      ]
     },
     "execution_count": 33,
     "metadata": {},
     "output_type": "execute_result"
    }
   ],
   "source": [
    "(desviacionEstandar '(1 1 1 1))"
   ]
  },
  {
   "cell_type": "markdown",
   "id": "fb655286",
   "metadata": {},
   "source": [
    "**Casos de prueba 2.**\n",
    "\n",
    "**lista** -> '(1 2 2 1)\n",
    "\n",
    "**Resultado esperado:** 1/4"
   ]
  },
  {
   "cell_type": "code",
   "execution_count": 34,
   "id": "01f88516",
   "metadata": {},
   "outputs": [
    {
     "data": {
      "text/html": [
       "<code>1/4</code>"
      ],
      "text/plain": [
       "1/4"
      ]
     },
     "execution_count": 34,
     "metadata": {},
     "output_type": "execute_result"
    }
   ],
   "source": [
    "(desviacionEstandar '(1 2 2 1))"
   ]
  },
  {
   "cell_type": "markdown",
   "id": "12e5f294",
   "metadata": {},
   "source": [
    "**Casos de prueba 3.**\n",
    "\n",
    "**lista** -> '(1 2 3 4)\n",
    "\n",
    "**Resultado esperado:** 5/4"
   ]
  },
  {
   "cell_type": "code",
   "execution_count": 35,
   "id": "00f09c1d",
   "metadata": {},
   "outputs": [
    {
     "data": {
      "text/html": [
       "<code>5/4</code>"
      ],
      "text/plain": [
       "5/4"
      ]
     },
     "execution_count": 35,
     "metadata": {},
     "output_type": "execute_result"
    }
   ],
   "source": [
    "(desviacionEstandar '(1 2 3 4))"
   ]
  },
  {
   "cell_type": "markdown",
   "id": "ee8f51a5",
   "metadata": {},
   "source": [
    "LLegando a este punto, si estas interesado en probarlas funciones, ya deben estar cargadas, por lo que puedes usar cualquier funcion anterior en espacio siguiente, suerte experimentando :D"
   ]
  },
  {
   "cell_type": "code",
   "execution_count": null,
   "id": "bbf97ae9",
   "metadata": {},
   "outputs": [],
   "source": []
  }
 ],
 "metadata": {
  "kernelspec": {
   "display_name": "Racket",
   "language": "racket",
   "name": "racket"
  },
  "language_info": {
   "codemirror_mode": "scheme",
   "file_extension": ".rkt",
   "mimetype": "text/x-racket",
   "name": "Racket",
   "pygments_lexer": "racket",
   "version": "7.2"
  }
 },
 "nbformat": 4,
 "nbformat_minor": 5
}
